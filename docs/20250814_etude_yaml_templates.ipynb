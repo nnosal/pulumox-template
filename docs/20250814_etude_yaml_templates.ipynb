{
  "nbformat": 4,
  "nbformat_minor": 0,
  "metadata": {
    "colab": {
      "provenance": [],
      "collapsed_sections": [
        "oaeKIS8tiyeI",
        "ASlnHNw4iJKJ",
        "vwJ8VwY7hZkh",
        "gvs_FzmcJgcO"
      ]
    },
    "kernelspec": {
      "name": "python3",
      "display_name": "Python 3"
    },
    "language_info": {
      "name": "python"
    }
  },
  "cells": [
    {
      "cell_type": "markdown",
      "source": [
        "# 📚 Etude pour [PULUMOX](https://github.com/nnosal/pulumox-template) : Ajouter un moteur de template yaml imbriqué afin de pouvoir injecter des variables dynamiques\n",
        "> @date: 14/08/2025"
      ],
      "metadata": {
        "id": "HvWVQerPI_8k"
      }
    },
    {
      "cell_type": "code",
      "source": [
        "!pip install pyyaml\n",
        "import os, yaml"
      ],
      "metadata": {
        "colab": {
          "base_uri": "https://localhost:8080/"
        },
        "id": "u1V6JdnL_lB7",
        "outputId": "8b74de72-e9d4-44c2-97de-3d27add8cea6"
      },
      "execution_count": null,
      "outputs": [
        {
          "output_type": "stream",
          "name": "stdout",
          "text": [
            "Requirement already satisfied: pyyaml in /usr/local/lib/python3.11/dist-packages (6.0.2)\n"
          ]
        }
      ]
    },
    {
      "cell_type": "markdown",
      "source": [
        "## 1. ✅ Utiliser [adobe/himl](https://github.com/adobe/himl)\n",
        "> Syntaxe: `k8s` ; ✅(merge) / ⚠️(dynamique-via-env-vars)\n",
        "---\n",
        "La solution la plus avancée pour proposer un pattern de fusion par dossier, la substitution ne peux être fait que via variable d'environnement (ce qui dans notre cas de call async peux être problématique donc sera écarté) sinon les méthodes disponibles sont uniquement ceux build-in (secret manager, ...)"
      ],
      "metadata": {
        "id": "oaeKIS8tiyeI"
      }
    },
    {
      "cell_type": "code",
      "source": [
        "# 1. Création de la structure YAML\n",
        "def create_demo_yaml_structure(base='./_test/himl'):\n",
        "    os.makedirs(base, exist_ok=True)\n",
        "    files = {\n",
        "        'base.yaml': \"\"\"\n",
        "---\n",
        "name: TOTO\n",
        "version: 1\n",
        "kubeconfig_location: \"{{env(KUBECONFIG)}}\"\n",
        "\"\"\",\n",
        "        'win11.yaml': \"\"\"\n",
        "---\n",
        "name: TITI\n",
        "os: linux\n",
        "\"\"\",\n",
        "    }\n",
        "    for fname, content in files.items():\n",
        "        with open(f'{base}/{fname}', 'w') as f:\n",
        "            f.write(content)\n",
        "    print(\"Structure et contenu YAML créés avec himl.\")\n",
        "\n",
        "create_demo_yaml_structure()"
      ],
      "metadata": {
        "colab": {
          "base_uri": "https://localhost:8080/"
        },
        "id": "coJ9xy0F1WtP",
        "outputId": "561029a6-eea8-48ae-8042-9048a8aae9a7"
      },
      "execution_count": null,
      "outputs": [
        {
          "output_type": "stream",
          "name": "stdout",
          "text": [
            "Structure et contenu YAML créés avec himl.\n"
          ]
        }
      ]
    },
    {
      "cell_type": "markdown",
      "source": [
        "### 1/ Via env"
      ],
      "metadata": {
        "id": "1qXKGmWNGIDM"
      }
    },
    {
      "cell_type": "code",
      "source": [
        "!pip install himl Jinja2\n",
        "from himl import ConfigProcessor\n",
        "\n",
        "os.environ[\"KUBECONFIG\"] = \"/home/user/.kube/config\"\n",
        "\n",
        "config_processor = ConfigProcessor()\n",
        "merged = config_processor.process(\n",
        "    path=\"./_test/himl\",\n",
        "    output_format=\"dict\",\n",
        "    print_data=False\n",
        ")\n",
        "print(merged)\n",
        "# => /home/user/.kube/config\n"
      ],
      "metadata": {
        "colab": {
          "base_uri": "https://localhost:8080/"
        },
        "id": "kO1-XVM01RUK",
        "outputId": "5348e55f-b85e-45c1-9099-06a25f3b6589"
      },
      "execution_count": null,
      "outputs": [
        {
          "output_type": "stream",
          "name": "stdout",
          "text": [
            "Requirement already satisfied: himl in /usr/local/lib/python3.11/dist-packages (0.16.4)\n",
            "Requirement already satisfied: Jinja2 in /usr/local/lib/python3.11/dist-packages (3.1.6)\n",
            "Requirement already satisfied: deepmerge==1.1.1 in /usr/local/lib/python3.11/dist-packages (from himl) (1.1.1)\n",
            "Requirement already satisfied: lru_cache==0.2.3 in /usr/local/lib/python3.11/dist-packages (from himl) (0.2.3)\n",
            "Requirement already satisfied: backports.functools_lru_cache==2.0.0 in /usr/local/lib/python3.11/dist-packages (from himl) (2.0.0)\n",
            "Requirement already satisfied: pyyaml~=6.0.2 in /usr/local/lib/python3.11/dist-packages (from himl) (6.0.2)\n",
            "Requirement already satisfied: pathlib2~=2.3.7 in /usr/local/lib/python3.11/dist-packages (from himl) (2.3.7.post1)\n",
            "Requirement already satisfied: boto3~=1.39.14 in /usr/local/lib/python3.11/dist-packages (from himl) (1.39.17)\n",
            "Requirement already satisfied: hvac~=2.3.0 in /usr/local/lib/python3.11/dist-packages (from himl) (2.3.0)\n",
            "Requirement already satisfied: MarkupSafe>=2.0 in /usr/local/lib/python3.11/dist-packages (from Jinja2) (3.0.2)\n",
            "Requirement already satisfied: botocore<1.40.0,>=1.39.17 in /usr/local/lib/python3.11/dist-packages (from boto3~=1.39.14->himl) (1.39.17)\n",
            "Requirement already satisfied: jmespath<2.0.0,>=0.7.1 in /usr/local/lib/python3.11/dist-packages (from boto3~=1.39.14->himl) (1.0.1)\n",
            "Requirement already satisfied: s3transfer<0.14.0,>=0.13.0 in /usr/local/lib/python3.11/dist-packages (from boto3~=1.39.14->himl) (0.13.1)\n",
            "Requirement already satisfied: requests<3.0.0,>=2.27.1 in /usr/local/lib/python3.11/dist-packages (from hvac~=2.3.0->himl) (2.32.3)\n",
            "Requirement already satisfied: six in /usr/local/lib/python3.11/dist-packages (from pathlib2~=2.3.7->himl) (1.17.0)\n",
            "Requirement already satisfied: python-dateutil<3.0.0,>=2.1 in /usr/local/lib/python3.11/dist-packages (from botocore<1.40.0,>=1.39.17->boto3~=1.39.14->himl) (2.9.0.post0)\n",
            "Requirement already satisfied: urllib3!=2.2.0,<3,>=1.25.4 in /usr/local/lib/python3.11/dist-packages (from botocore<1.40.0,>=1.39.17->boto3~=1.39.14->himl) (2.5.0)\n",
            "Requirement already satisfied: charset-normalizer<4,>=2 in /usr/local/lib/python3.11/dist-packages (from requests<3.0.0,>=2.27.1->hvac~=2.3.0->himl) (3.4.3)\n",
            "Requirement already satisfied: idna<4,>=2.5 in /usr/local/lib/python3.11/dist-packages (from requests<3.0.0,>=2.27.1->hvac~=2.3.0->himl) (3.10)\n",
            "Requirement already satisfied: certifi>=2017.4.17 in /usr/local/lib/python3.11/dist-packages (from requests<3.0.0,>=2.27.1->hvac~=2.3.0->himl) (2025.8.3)\n",
            "OrderedDict([('name', 'TITI'), ('version', 1), ('kubeconfig_location', '/home/user/.kube/config'), ('os', 'linux')])\n"
          ]
        }
      ]
    },
    {
      "cell_type": "markdown",
      "source": [
        "### 2/ Via load+jinja2 (ébauche wtf)"
      ],
      "metadata": {
        "id": "sEW_zHx-GMvu"
      }
    },
    {
      "cell_type": "code",
      "source": [
        "from jinja2 import Environment, StrictUndefined\n",
        "\n",
        "os.environ[\"windows_url\"] = \"http://www.facebook.com\"\n",
        "\n",
        "# 2. Variables à injecter\n",
        "variables = {\n",
        "    \"windows_url\": \"https://downloads.microsoft.com/ma-nouvelle-iso-windows.iso\"\n",
        "}\n",
        "\n",
        "# 3. Prétraitement Jinja2 avant fusion\n",
        "try:\n",
        "  env = Environment(undefined=StrictUndefined)\n",
        "  env.globals.update(variables)\n",
        "\n",
        "  for fname in os.listdir('./_test/himl'):\n",
        "      path = os.path.join('./_test/himl', fname)\n",
        "      if os.path.isfile(path) and fname.endswith('.yaml'):\n",
        "          with open(path) as f:\n",
        "              rendered = env.from_string(f.read()).render()\n",
        "          with open(path, 'w') as f:\n",
        "              f.write(rendered)\n",
        "\n",
        "  # 4. Fusion avec himl\n",
        "  config_processor = ConfigProcessor()\n",
        "  merged_config = config_processor.process(\n",
        "      path='./_test/himl',\n",
        "      output_format=\"dict\",  # retourne un dict Python\n",
        "      print_data=False\n",
        "  )\n",
        "\n",
        "  print(merged_config)\n",
        "\n",
        "except Exception as e:\n",
        "  print(e)\n",
        "  print(\"Erreur causée par 'kubeconfig_location: \\\"{{env(KUBECONFIG)}}\\\"', la structure env d'HIML est incompatible avec celle de jinja2.\")"
      ],
      "metadata": {
        "colab": {
          "base_uri": "https://localhost:8080/"
        },
        "id": "iztmWHIsi5if",
        "outputId": "533a3d2c-e65c-4982-8d63-5c66b8e36d41"
      },
      "execution_count": null,
      "outputs": [
        {
          "output_type": "stream",
          "name": "stdout",
          "text": [
            "'env' is undefined\n",
            "Erreur causée par 'kubeconfig_location: \"{{env(KUBECONFIG)}}\"', la structure env d'HIML est incompatible avec celle de jinja2.\n"
          ]
        }
      ]
    },
    {
      "cell_type": "markdown",
      "source": [
        "## 2. ✅ Utiliser [zerwes/hiyapyco](https://github.com/zerwes/hiyapyco)\n",
        "> Syntaxe: `jinja2`.\n",
        "---\n",
        "Permet de merge (même si n'a pas de pattern par dossier il faut la coder) + injection de variable dynamique grâce à Jinja2."
      ],
      "metadata": {
        "id": "6rmq-VsdipBc"
      }
    },
    {
      "cell_type": "code",
      "source": [
        "!pip install hiyapyco Jinja2\n",
        "def create_demo_yaml_structure(base='./_test/hiyapyco'):\n",
        "    os.makedirs(f'{base}/include.d', exist_ok=True)\n",
        "    files = {\n",
        "        'base.yaml': \"\"\"\n",
        "---\n",
        "name: TOTO\n",
        "version: 1\n",
        "iso:\n",
        "  url: \"{{ windows_url }}\"\n",
        "\"\"\",\n",
        "        'win11.yaml': \"\"\"\n",
        "---\n",
        "name: TITI\n",
        "os: linux\n",
        "\"\"\",\n",
        "    }\n",
        "    for f, c in files.items():\n",
        "        with open(f'{base}/{f}', 'w') as file: file.write(c)\n",
        "    print(\"Structure et contenu YAML créés.\")\n",
        "\n",
        "create_demo_yaml_structure()\n",
        "\n",
        "#!/usr/bin/env uv run --script\n",
        "# /// script\n",
        "# dependencies = [\n",
        "#   \"hiyapyco\", \"Jinja2\"\n",
        "# ]\n",
        "# ///\n",
        "import hiyapyco\n",
        "from jinja2 import Environment, Undefined, DebugUndefined, StrictUndefined\n",
        "\n",
        "# 1. Définir la nouvelle valeur à insérer\n",
        "windows_url = \"https://downloads.microsoft.com/ma-nouvelle-iso-windows.iso\"\n",
        "\n",
        "# 2. Définir les variables Jinja2 dans un dictionnaire\n",
        "variables = {\n",
        "    'windows_url': windows_url\n",
        "}\n",
        "\n",
        "# 3. Charger le fichier YAML avec Hiyapyco et fournir le dictionnaire de variables\n",
        "# Hiyapyco va automatiquement rendre le template en utilisant les variables fournies\n",
        "hiyapyco.jinja2env = Environment(undefined=StrictUndefined) # ou =Undefined pour que pas d'erreur + value=\"\" # =StrictUndefined == srict\n",
        "hiyapyco.jinja2env.globals.update(variables)\n",
        "\n",
        "hiyapyco_method=hiyapyco.METHOD_MERGE\n",
        "#hiyapyco_method=hiyapyco.METHOD_SIMPLE\n",
        "#hiyapyco_method=hiyapyco.METHOD_SUBSTITUTE\n",
        "config = hiyapyco.load('_test/hiyapyco/base.yaml', '_test/hiyapyco/win11.yaml',\n",
        "    interpolate=True,\n",
        "    method=hiyapyco_method,\n",
        "    #none_behavior=hiyapyco.NONE_BEHAVIOR_OVERRIDE,\n",
        "    )\n",
        "\n",
        "# La variable a été remplacée au moment du chargement\n",
        "print(config)\n",
        "# Output:\n",
        "# {'iso': {'url': 'https://downloads.microsoft.com/ma-nouvelle-iso-windows.iso'}}"
      ],
      "metadata": {
        "colab": {
          "base_uri": "https://localhost:8080/"
        },
        "id": "r89MjvKRixHd",
        "outputId": "59810b6f-7fea-4f8c-9548-8b863e1d3682"
      },
      "execution_count": null,
      "outputs": [
        {
          "output_type": "stream",
          "name": "stdout",
          "text": [
            "Requirement already satisfied: hiyapyco in /usr/local/lib/python3.11/dist-packages (0.7.0)\n",
            "Requirement already satisfied: Jinja2 in /usr/local/lib/python3.11/dist-packages (3.1.6)\n",
            "Requirement already satisfied: MarkupSafe<4 in /usr/local/lib/python3.11/dist-packages (from hiyapyco) (3.0.2)\n",
            "Requirement already satisfied: PyYAML<7 in /usr/local/lib/python3.11/dist-packages (from hiyapyco) (6.0.2)\n",
            "Structure et contenu YAML créés.\n",
            "OrderedDict([('name', 'TITI'), ('version', 1), ('iso', OrderedDict([('url', 'https://downloads.microsoft.com/ma-nouvelle-iso-windows.iso')])), ('os', 'linux')])\n"
          ]
        }
      ]
    },
    {
      "cell_type": "markdown",
      "source": [
        "## 3. ✅ Utiliser [x41lakazam/mergeconfigs](https://github.com/x41lakazam/mergeconfigs)\n",
        "> Syntaxe: `#{extends,load,include}`, `${filename:var}`."
      ],
      "metadata": {
        "id": "yQYoOLvtidBL"
      }
    },
    {
      "cell_type": "code",
      "source": [
        "from mergeconfigs.config_builder import build_config\n",
        "\n",
        "def create_demo_yaml_structure(base='./_test/mergeconfigs'):\n",
        "    os.makedirs(base, exist_ok=True)\n",
        "    files = {\n",
        "        '_base.yaml': \"\"\"#load variables.yaml\n",
        "---\n",
        "name: BASE\n",
        "version: 1\n",
        "iso:\n",
        "  url: \"${variables@windows_url}\"\n",
        "\"\"\",\n",
        "        'win11.yaml': \"\"\"\n",
        "#extends _base.yaml\n",
        "---\n",
        "name: WIN11\n",
        "os: windows\n",
        "\"\"\",\n",
        "        'variables.yaml': \"\"\"\n",
        "---\n",
        "windows_url: \"https://downloads.microsoft.com/ma-nouvelle-iso-windows.iso\"\n",
        "\"\"\",\n",
        "        'win10.yaml': \"\"\"\n",
        "#extends _base.yaml\n",
        "---\n",
        "name: WIN10\n",
        "os: windows\n",
        "\"\"\",\n",
        "        'variables.yaml': \"\"\"\n",
        "---\n",
        "windows_url: \"https://downloads.microsoft.com/ma-nouvelle-iso-windows.iso\"\n",
        "\"\"\"\n",
        "    }\n",
        "    for f, c in files.items():\n",
        "        with open(f'{base}/{f}', 'w') as file:\n",
        "            file.write(c)\n",
        "    print(\"Structure et contenu YAML créés.\")\n",
        "\n",
        "create_demo_yaml_structure()\n",
        "\n",
        "# Utilisation directe de l’API interne\n",
        "merged_dict = build_config(\n",
        "    filename=\"win11.yaml\",           # fichier de départ\n",
        "    workdir=\"./_test/mergeconfigs\",  # répertoire de travail\n",
        "    env=\".\"                          # environnement\n",
        ")\n",
        "\n",
        "# Affichage du résultat fusionné\n",
        "print(yaml.dump(merged_dict, sort_keys=False, allow_unicode=True))\n"
      ],
      "metadata": {
        "id": "-HuBasIJioJe",
        "colab": {
          "base_uri": "https://localhost:8080/"
        },
        "outputId": "1f0cae0f-4091-44a1-c737-21edb60e962a"
      },
      "execution_count": null,
      "outputs": [
        {
          "output_type": "stream",
          "name": "stdout",
          "text": [
            "Structure et contenu YAML créés.\n",
            "name: WIN11\n",
            "version: 1\n",
            "iso:\n",
            "  url: https://downloads.microsoft.com/ma-nouvelle-iso-windows.iso\n",
            "os: windows\n",
            "\n"
          ]
        }
      ]
    },
    {
      "cell_type": "markdown",
      "source": [
        "## 4. ❌/🔮 Utiliser [valentingol/cliconfig](https://github.com/valentingol/cliconfig/)\n",
        "> Syntaxe: `@{merge_,copy,def,type,select,delete,new,dict}`.\n",
        "---\n",
        "N'autorise des args que sous-forme de cli... la lib pourrait être intéréssante mais il va falloir l'adapter + pull_request"
      ],
      "metadata": {
        "id": "ASlnHNw4iJKJ"
      }
    },
    {
      "cell_type": "code",
      "source": [
        "!pip install cliconfig\n",
        "def create_demo_yaml_structure(base='./_test/cliconfig'):\n",
        "    os.makedirs(f'{base}/include.d', exist_ok=True)\n",
        "    files = {\n",
        "        'base.yaml': \"\"\"\n",
        "---\n",
        "name: TOTO\n",
        "version: 1\n",
        "iso:\n",
        "  url: \"{{ windows_url }}\"\n",
        "\"\"\",\n",
        "        'win11.yaml': \"\"\"\n",
        "---\n",
        "name: TITI\n",
        "os: linux\n",
        "\"\"\",\n",
        "    }\n",
        "    for f, c in files.items():\n",
        "        with open(f'{base}/{f}', 'w') as file: file.write(c)\n",
        "    print(\"Structure et contenu YAML créés.\")\n",
        "\n",
        "create_demo_yaml_structure()\n",
        "\n",
        "#!/usr/bin/env uv run --script\n",
        "# /// script\n",
        "# dependencies = [\n",
        "#   \"cliconfig\"\n",
        "# ]\n",
        "# ///\n",
        "from cliconfig import make_config\n",
        "jinja_vars = {\n",
        "    \"windows_url\": \"https://example.com/windows.iso\"\n",
        "}\n",
        "config = make_config( '_test/cliconfig/base.yaml', '_test/cliconfig/win11.yaml', no_cli=True )\n",
        "# can't add vars...\n",
        "print(config)"
      ],
      "metadata": {
        "colab": {
          "base_uri": "https://localhost:8080/"
        },
        "id": "dpNrNAXoiZXH",
        "outputId": "d72b97b6-07b8-4f02-b947-20864d1203fd"
      },
      "execution_count": null,
      "outputs": [
        {
          "output_type": "stream",
          "name": "stdout",
          "text": [
            "Requirement already satisfied: cliconfig in /usr/local/lib/python3.11/dist-packages (1.4.6)\n",
            "Requirement already satisfied: flatten-dict in /usr/local/lib/python3.11/dist-packages (from cliconfig) (0.4.2)\n",
            "Requirement already satisfied: PyYAML in /usr/local/lib/python3.11/dist-packages (from cliconfig) (6.0.2)\n",
            "Requirement already satisfied: six<2.0,>=1.12 in /usr/local/lib/python3.11/dist-packages (from flatten-dict->cliconfig) (1.17.0)\n",
            "Structure et contenu YAML créés.\n",
            "INFO - [CONFIG] Merged 2 default config(s), 0 additional config(s) and 0 CLI parameter(s).\n"
          ]
        },
        {
          "output_type": "stream",
          "name": "stderr",
          "text": [
            "INFO:cliconfig._logger:[CONFIG] Merged 2 default config(s), 0 additional config(s) and 0 CLI parameter(s).\n"
          ]
        },
        {
          "output_type": "stream",
          "name": "stdout",
          "text": [
            "Config({'name': 'TITI', 'version': 1, 'iso': {'url': '{{ windows_url }}'}, 'os': 'linux'}, ['ProcessCheckTags', 'ProcessMerge', 'ProcessCopy', 'ProcessDef', 'ProcessTyping', 'ProcessSelect', 'ProcessDelete', 'ProcessDict', 'ProcessNew'])\n"
          ]
        }
      ]
    },
    {
      "cell_type": "markdown",
      "source": [
        "## 5. ❌ Utiliser [tanbro/pyyaml-include](https://github.com/tanbro/pyyaml-include)\n",
        "> Syntaxe: `Linux '.d' suffix` ;  ✅(!include) / ❌(dynamic-vars)\n",
        "---\n",
        "En apparence `.d` mais c'est l'exemple qui le présente tel quel... il s'agit d'un simple fichier `master` qui nécessite d'inclure les règles d'inclusions, `yaml_include` est juste une classe d'include pour `add_constructor`, son avantage serait pour sa déclinaisons fsspec (http,s3,etc) mais inutile dans mon cas."
      ],
      "metadata": {
        "id": "vwJ8VwY7hZkh"
      }
    },
    {
      "cell_type": "code",
      "source": [
        "!pip install pyyaml-include\n",
        "import yaml\n",
        "import yaml_include\n",
        "import os\n",
        "\n",
        "def create_demo_yaml_structure(base='./_test/pyyaml-include'):\n",
        "    os.makedirs(f'{base}/include.d', exist_ok=True)\n",
        "    files = {\n",
        "        'include.d/1.yaml': \"\"\"\n",
        "---\n",
        "name: \"1\"\n",
        "\"\"\",\n",
        "        'include.d/2.yaml': \"\"\"\n",
        "---\n",
        "name: \"2\"\n",
        "\"\"\",\n",
        "        '0.yaml': \"\"\"\n",
        "---\n",
        "ab: !inc [./include.d/*.yml]\n",
        "site: !url\n",
        "\"\"\"\n",
        "    }\n",
        "    for f, c in files.items():\n",
        "        with open(f'{base}/{f}', 'w') as file: file.write(c)\n",
        "    print(\"Structure et contenu YAML créés.\")\n",
        "\n",
        "create_demo_yaml_structure()\n",
        "\n",
        "# ######\n",
        "\n",
        "#!/usr/bin/env uv run --script\n",
        "# /// script\n",
        "# dependencies = [\n",
        "#   \"pyyaml-include\"\n",
        "# ]\n",
        "# ///\n",
        "import yaml\n",
        "import yaml_include\n",
        "\n",
        "# add the !inc tag to SafeLoader\n",
        "yaml.SafeLoader.add_constructor(\"!inc\", yaml_include.Constructor(base_dir='_test/pyyaml-include'))\n",
        "\n",
        "# Define a custom loader function for !url\n",
        "def my_url_loader(loader, node):\n",
        "    return \"http://www.google.fr\"\n",
        "\n",
        "# Add the !url constructor to SafeLoader\n",
        "yaml.SafeLoader.add_constructor(\"!url\", my_url_loader)\n",
        "\n",
        "with open('_test/pyyaml-include/0.yaml') as f:\n",
        "  data = yaml.safe_load(f)\n",
        "\n",
        "print(data)"
      ],
      "metadata": {
        "colab": {
          "base_uri": "https://localhost:8080/"
        },
        "id": "HUlsdFUnqJ_I",
        "outputId": "c5f26333-4ba6-45ee-cdd3-d004fe53cac4"
      },
      "execution_count": null,
      "outputs": [
        {
          "output_type": "stream",
          "name": "stdout",
          "text": [
            "Requirement already satisfied: pyyaml-include in /usr/local/lib/python3.11/dist-packages (2.2)\n",
            "Requirement already satisfied: PyYAML~=6.0 in /usr/local/lib/python3.11/dist-packages (from pyyaml-include) (6.0.2)\n",
            "Requirement already satisfied: fsspec>=2021.04.0 in /usr/local/lib/python3.11/dist-packages (from pyyaml-include) (2025.3.0)\n",
            "Structure et contenu YAML créés.\n",
            "{'ab': [], 'site': 'http://www.google.fr'}\n"
          ]
        }
      ]
    },
    {
      "cell_type": "markdown",
      "source": [
        "## 6. ❌ Utiliser [lbovet/yglu](https://github.com/lbovet/yglu)\n",
        "> Syntaxe: `YAQL`\n",
        "---\n",
        "N'autorise son execution que sous-forme de cli ou en tout cas son usage n'est pas documenté."
      ],
      "metadata": {
        "id": "zeyJklHJL1PS"
      }
    },
    {
      "cell_type": "markdown",
      "source": [
        "## 7. ❌ Utiliser [yte](https://github.com/yte-template-engine/yte) -\n",
        "> Syntaxe: Python.\n",
        "> ❌(merge) / ✅(dynamic-vars)\n",
        "---\n",
        "Il n'a pas de capacité de merging, il s'agit que d'un moteur de template pour YAML, même si très sympa, ça reste un Jinja2-like."
      ],
      "metadata": {
        "id": "gvs_FzmcJgcO"
      }
    },
    {
      "cell_type": "code",
      "source": [
        "#!/usr/bin/env uv run --script\n",
        "# /// script\n",
        "# dependencies = [\n",
        "#   \"yte\"\n",
        "# ]\n",
        "# ///\n",
        "!pip install yte\n",
        "from yte import process_yaml\n",
        "\n",
        "# Variables à injecter dans le template\n",
        "variables = {\n",
        "    \"url_virtio_iso\": \"https://exemple.com/virtio-win.iso\"\n",
        "}\n",
        "\n",
        "# Charger et rendre le fichier de base\n",
        "win_base_yml = \"\"\"\n",
        "---\n",
        "vmimgs:\n",
        "  - name: test-latest-virtio-win\n",
        "    file_name: test-virtio-win.iso\n",
        "    url: \"? url_virtio_iso\"\n",
        "    node_name: \"auto\"\n",
        "    datastore_id: \"local\"\n",
        "\n",
        "vmtpls2:\n",
        "  - name: \"tpl--windows\"\n",
        "    bios: \"ovmf\"\n",
        "    machine: \"pc-q35-6.2\"\n",
        "    keyboard_layout: \"fr\"\n",
        "    description: \"Windows-virtio master-VM to clone\"\n",
        "    tags: [\"tpl\"]\n",
        "    node_name: \"mpro\"\n",
        "    resource_name: \"tpl--windows\"\n",
        "    template: true\n",
        "    vm_id: 9000\n",
        "    vga:\n",
        "      type: \"std\"\n",
        "      memory: 128\n",
        "    boot_orders:\n",
        "      - \"ide0\"\n",
        "      - \"sata1\"\n",
        "      - \"ide1\"\n",
        "      - \"ide3\"\n",
        "    cdrom:\n",
        "      interface: \"ide1\"\n",
        "      file_id: \"local:iso/2_latest-virtio-win.iso\"\n",
        "    on_boot: false\n",
        "\"\"\"\n",
        "base_yaml = process_yaml(win_base_yml, variables=variables)\n",
        "win11_yml = \"\"\"\n",
        "---\n",
        "vmtpls2:\n",
        "  - name: \"tpl--windows11\"\n",
        "\"\"\"\n",
        "override_yaml = process_yaml(win11_yml, variables=variables)\n",
        "\n",
        "# Fusion : remplacer/ajouter les clés de override dans base\n",
        "merged = {**base_yaml, **override_yaml}\n",
        "\n",
        "# Afficher le YAML final\n",
        "print(yaml.safe_dump(merged, sort_keys=False, allow_unicode=True))\n"
      ],
      "metadata": {
        "colab": {
          "base_uri": "https://localhost:8080/"
        },
        "id": "Fo-TSyDcJgGX",
        "outputId": "bbc228b5-0590-47e4-8b18-ee5b45a742e5"
      },
      "execution_count": null,
      "outputs": [
        {
          "output_type": "stream",
          "name": "stdout",
          "text": [
            "Requirement already satisfied: yte in /usr/local/lib/python3.11/dist-packages (1.9.0)\n",
            "Requirement already satisfied: argparse-dataclass>=1.0.0 in /usr/local/lib/python3.11/dist-packages (from yte) (2.0.0)\n",
            "Requirement already satisfied: dpath<3.0,>=2.1 in /usr/local/lib/python3.11/dist-packages (from yte) (2.2.0)\n",
            "Requirement already satisfied: pyyaml<7.0,>=6.0 in /usr/local/lib/python3.11/dist-packages (from yte) (6.0.2)\n",
            "vmimgs:\n",
            "- name: test-latest-virtio-win\n",
            "  file_name: test-virtio-win.iso\n",
            "  url: https://exemple.com/virtio-win.iso\n",
            "  node_name: auto\n",
            "  datastore_id: local\n",
            "vmtpls2:\n",
            "- name: tpl--windows11\n",
            "\n"
          ]
        }
      ]
    },
    {
      "cell_type": "markdown",
      "source": [
        "## 8. ✅🤓 Utiliser simplement yaml.add_constructor?\n",
        "---\n",
        "Finalement revient à construire son propre constructeur (native à la lib yaml)... je crois que ça va être le plus simple même si personne n'a fait quelque chose de mieux."
      ],
      "metadata": {
        "id": "WvfVcyZ-JHA3"
      }
    },
    {
      "cell_type": "code",
      "execution_count": null,
      "metadata": {
        "colab": {
          "base_uri": "https://localhost:8080/"
        },
        "id": "3FQMJzghIT_Q",
        "outputId": "976f1932-3dc7-4f2e-ddc3-785e089e7d1c"
      },
      "outputs": [
        {
          "output_type": "stream",
          "name": "stdout",
          "text": [
            "https://example.com/download?name=❤️ Windows 11&lang=French&arch=arm64\n"
          ]
        }
      ],
      "source": [
        "import yaml\n",
        "\n",
        "# Exemple de fonction multiple args\n",
        "def windlurl(name, lang, arch):\n",
        "    return f\"https://example.com/download?name={name}&lang={lang}&arch={arch}\"\n",
        "\n",
        "# Constructeur YAML pour !windlurl\n",
        "yaml.SafeLoader.add_constructor('!windlurl', lambda loader, node: windlurl(*loader.construct_sequence(node)))\n",
        "\n",
        "# YAML\n",
        "yaml_content = \"\"\"\n",
        "file: !windlurl [\"❤️ Windows 11\", \"French\", \"arm64\"]\n",
        "\"\"\"\n",
        "\n",
        "data = yaml.safe_load(yaml_content)\n",
        "print(data['file'])"
      ]
    },
    {
      "cell_type": "markdown",
      "source": [
        "# Structure souhaitée\n",
        "---\n",
        "\n",
        "## Windows\n",
        "- templates/windows/_base.yaml\n",
        "- templates/windows/10.yaml\n",
        "- templates/windows/11.yaml\n",
        "\n",
        "## Mac (->2020 Era)\n",
        "- templates/mac/_base.yaml\n",
        "- templates/mac/11-big-sur.yaml\n",
        "- templates/mac/12-monterey.yaml\n",
        "- templates/mac/13-ventura.yaml\n",
        "- templates/mac/14-sonoma.yaml\n",
        "- templates/mac/15-sequoia.yaml\n",
        "- templates/mac/26-tahoe.yaml\n",
        "\n",
        "## Mac (10. -> 2010 Era - x64_app_store )\n",
        "- templates/mac/_base10.yaml\n",
        "- templates/mac/10.7-lion.yaml\n",
        "- templates/mac/10.8-mountain-lion.yaml\n",
        "- templates/mac/10.9-mavericks.yaml\n",
        "- templates/mac/10.10-yosemite.yaml\n",
        "- templates/mac/10.11-el-capitan.yaml\n",
        "- templates/mac/10.12-sierra.yaml\n",
        "- templates/mac/10.13-high-sierra.yaml\n",
        "- templates/mac/10.14-mojave.yaml\n",
        "- templates/mac/10.15-catalina.yaml\n",
        "\n",
        "## Linux\n",
        "- templates/windows/_base.yaml\n",
        "- templates/windows/ubuntu.yaml\n",
        "- templates/windows/debian.yaml\n",
        "- templates/windows/centos-stream.yaml\n",
        "- templates/windows/linux-mint.yaml\n",
        "- templates/windows/manjaro.yaml\n",
        "\n",
        "\n",
        "# Conclusion\n",
        "---\n",
        "1. `Adobe/HIML` est plus dans l'esprit de ce que je veux faire, une configuration par structure, cependant son injection dynamique est trop limitative (via variable d'env.).\n",
        "2. `Cliconfig`, permet de faire des fusions très précises de façon purement déclarative (voir trop) mais n'a aucun mécanisme d'injection de variables en dehors de sa version cli.\n",
        "3. 👍 **`hiyapyco`, reste le plus adapté, gestion native de fusion + templating Jinja2**. Par exemple `yte`, propore un moteur de templating Yaml intéréssant mais il reste nécessaire de faire une fusion non-deep comme `merged = {**base_yaml, **override_yaml}`.\n",
        "4. 👍⚠️ `Mergeconfig` si détourné de sa version cli, permet de gérer une structure + interpolation, sauf que la lib n'est plus maintenu.\n",
        "\n",
        "`3. Mergeconfig` ressemble le plus à ce que je veux en terme de structure + fusion (`#extends _base.yaml` ), je vais partir sur cette base ou soit sur `2. hiyapyco` (`_base.yml.j2`) ou soit alors coder simplement mon constructeur yaml (`8. yaml.add_constructor` + `merged = {**base_yaml, **override_yaml}`)\n"
      ],
      "metadata": {
        "id": "C-LZPjSQon_8"
      }
    }
  ]
}